{
 "cells": [
  {
   "cell_type": "code",
   "execution_count": 1,
   "metadata": {},
   "outputs": [],
   "source": [
    "import numpy as np\n",
    "from tqdm import tqdm"
   ]
  },
  {
   "cell_type": "code",
   "execution_count": 2,
   "metadata": {},
   "outputs": [],
   "source": [
    "Nseq = 100\n",
    "I = 50 # Sequence length\n",
    "K = 5 # No. of event types"
   ]
  },
  {
   "cell_type": "code",
   "execution_count": 3,
   "metadata": {},
   "outputs": [
    {
     "data": {
      "text/plain": [
       "array([[15.00915075, 19.662314  , 15.76991884, 14.10795562, 17.57467433],\n",
       "       [12.54284861, 16.94627203, 14.99575947, 19.89843249, 13.07036103],\n",
       "       [18.37704726, 16.26625222, 19.54807807, 17.76137354, 13.44961882],\n",
       "       [11.47751547, 19.96664905, 18.57735102, 12.40884297, 18.86069083],\n",
       "       [16.82298253, 10.17819047, 13.82008232, 17.20869415, 13.42092428]])"
      ]
     },
     "execution_count": 3,
     "metadata": {},
     "output_type": "execute_result"
    }
   ],
   "source": [
    "mu = np.random.rand(K)\n",
    "alpha = np.random.rand(K, K)\n",
    "delta = np.random.rand(K, K)*10+10\n",
    "delta"
   ]
  },
  {
   "cell_type": "code",
   "execution_count": 4,
   "metadata": {},
   "outputs": [
    {
     "name": "stderr",
     "output_type": "stream",
     "text": [
      "100%|██████████| 100/100 [01:28<00:00,  1.13it/s]\n"
     ]
    }
   ],
   "source": [
    "tarr = np.zeros((Nseq, I))\n",
    "evArr = np.zeros((Nseq, I), dtype=int)\n",
    "for seq in tqdm(range(Nseq), position=0, leave=True): # No. of sequences\n",
    "    for i in range(I): # No. of timestamps in each sequence\n",
    "        \n",
    "        # We have to select the next event\n",
    "        # First, we find the next time for each event type\n",
    "        t_i_k = np.zeros(K)\n",
    "        for k in range(K):\n",
    "            # Find the intensity of the k^th type at i^th timestamp\n",
    "            \n",
    "            C = True\n",
    "            t = 0. if i==0 else tarr[seq, i-1]\n",
    "            # Find the supremum\n",
    "            # iterate through previous time stamps\n",
    "            lamb_sup_k_i = mu[k]\n",
    "            for j in range(i):\n",
    "                lamb_sup_k_i += alpha[k, evArr[seq, j] ]\n",
    "            while C:                    \n",
    "                Del = -np.log(np.random.rand())/lamb_sup_k_i\n",
    "                t += Del\n",
    "                lamb_k_i = mu[k]\n",
    "                for j in range(i):\n",
    "                    lamb_k_i += alpha[k, evArr[seq, j]] * np.exp(-delta[k, evArr[seq, j]]*\n",
    "                                                                 (t-tarr[seq, j]))\n",
    "                    \n",
    "                # Decide to accept the time\n",
    "                if lamb_k_i/lamb_sup_k_i > np.random.rand():\n",
    "                    C = False\n",
    "                    \n",
    "            t_i_k[k] = t\n",
    "        \n",
    "        # Store the earliest event\n",
    "        tarr[seq, i] = np.min(t_i_k)\n",
    "        evArr[seq, i] = np.argmin(t_i_k)"
   ]
  },
  {
   "cell_type": "code",
   "execution_count": 5,
   "metadata": {},
   "outputs": [],
   "source": [
    "t0arr = np.zeros((Nseq, I+1))\n",
    "t0arr[:, 1:] = tarr"
   ]
  },
  {
   "cell_type": "code",
   "execution_count": 6,
   "metadata": {},
   "outputs": [
    {
     "data": {
      "text/plain": [
       "array([ 0.        ,  0.5099208 ,  1.05290664,  1.11444908,  1.23013191,\n",
       "        1.42215343,  1.43324077,  1.52834602,  1.88366572,  1.91100113,\n",
       "        2.61637838,  2.69378461,  2.88773426,  4.33266338,  4.34122777,\n",
       "        5.17397745,  5.49747554,  5.58101228,  5.58844814,  5.61246131,\n",
       "        6.08179329,  6.09115351,  7.42887855,  7.43576238,  7.51628281,\n",
       "        7.96341925,  8.0176534 ,  8.3382777 ,  9.0032128 ,  9.48651193,\n",
       "        9.83223315, 10.354456  , 10.35495489, 10.59236316, 10.96078493,\n",
       "       10.98937141, 12.16469391, 12.53568148, 12.83941082, 13.81691521,\n",
       "       14.45237845, 14.46118389, 14.98861739, 15.15968586, 15.16823774,\n",
       "       15.21124702, 15.761056  , 16.34558365, 16.45406126, 16.8354707 ,\n",
       "       17.25205091])"
      ]
     },
     "execution_count": 6,
     "metadata": {},
     "output_type": "execute_result"
    }
   ],
   "source": [
    "t0arr[1]"
   ]
  },
  {
   "cell_type": "code",
   "execution_count": 7,
   "metadata": {},
   "outputs": [],
   "source": [
    "np.save(\"Events.npy\", evArr)\n",
    "np.save(\"Times.npy\", t0arr)\n",
    "np.save(\"Mu.npy\", mu)\n",
    "np.save(\"alpha.npy\", alpha)\n",
    "np.save(\"Delta.npy\", delta)"
   ]
  },
  {
   "cell_type": "code",
   "execution_count": 8,
   "metadata": {},
   "outputs": [
    {
     "data": {
      "text/plain": [
       "(100, 50)"
      ]
     },
     "execution_count": 8,
     "metadata": {},
     "output_type": "execute_result"
    }
   ],
   "source": [
    "evArr.shape"
   ]
  },
  {
   "cell_type": "code",
   "execution_count": null,
   "metadata": {},
   "outputs": [],
   "source": []
  }
 ],
 "metadata": {
  "kernelspec": {
   "display_name": "Python 3",
   "language": "python",
   "name": "python3"
  },
  "language_info": {
   "codemirror_mode": {
    "name": "ipython",
    "version": 3
   },
   "file_extension": ".py",
   "mimetype": "text/x-python",
   "name": "python",
   "nbconvert_exporter": "python",
   "pygments_lexer": "ipython3",
   "version": "3.8.10"
  }
 },
 "nbformat": 4,
 "nbformat_minor": 4
}
