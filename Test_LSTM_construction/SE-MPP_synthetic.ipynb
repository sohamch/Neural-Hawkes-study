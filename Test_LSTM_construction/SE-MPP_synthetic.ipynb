{
 "cells": [
  {
   "cell_type": "code",
   "execution_count": 1,
   "metadata": {},
   "outputs": [],
   "source": [
    "import numpy as np\n",
    "from tqdm import tqdm"
   ]
  },
  {
   "cell_type": "code",
   "execution_count": 2,
   "metadata": {},
   "outputs": [],
   "source": [
    "Nseq = 100\n",
    "I = 50 # Sequence length\n",
    "K = 5 # No. of event types"
   ]
  },
  {
   "cell_type": "code",
   "execution_count": 3,
   "metadata": {},
   "outputs": [
    {
     "data": {
      "text/plain": [
       "array([[14.14409235, 12.91547667, 13.96045469, 12.74541805, 11.66034563],\n",
       "       [12.06929461, 17.88525819, 14.76169548, 14.51562821, 19.35143961],\n",
       "       [13.37772184, 13.25980361, 12.26912754, 14.72817983, 19.72283304],\n",
       "       [11.39141622, 12.23652367, 16.74639478, 18.96141384, 18.12468294],\n",
       "       [15.92639197, 12.57913233, 16.01043102, 15.24965139, 17.79871896]])"
      ]
     },
     "execution_count": 3,
     "metadata": {},
     "output_type": "execute_result"
    }
   ],
   "source": [
    "mu = np.random.rand(K)\n",
    "alpha = np.random.rand(K, K)\n",
    "delta = np.random.rand(K, K)*10+10\n",
    "delta"
   ]
  },
  {
   "cell_type": "code",
   "execution_count": 4,
   "metadata": {},
   "outputs": [
    {
     "name": "stderr",
     "output_type": "stream",
     "text": [
      "100%|██████████| 100/100 [01:11<00:00,  1.41it/s]\n"
     ]
    }
   ],
   "source": [
    "tarr = np.zeros((Nseq, I))\n",
    "evArr = np.zeros((Nseq, I), dtype=int)\n",
    "for seq in tqdm(range(Nseq), position=0, leave=True): # No. of sequences\n",
    "    for i in range(I): # No. of timestamps in each sequence\n",
    "        \n",
    "        # We have to select the next event\n",
    "        # First, we find the next time for each event type\n",
    "        t_i_k = np.zeros(K)\n",
    "        for k in range(K):\n",
    "            # Find the intensity of the k^th type at i^th timestamp\n",
    "            \n",
    "            C = True\n",
    "            t = 0. if i==0 else tarr[seq, i-1]\n",
    "            # Find the supremum\n",
    "            # iterate through previous time stamps\n",
    "            lamb_sup_k_i = mu[k]\n",
    "            for j in range(i):\n",
    "                lamb_sup_k_i += alpha[k, evArr[seq, j] ]\n",
    "            while C:                    \n",
    "                Del = -np.log(np.random.rand())/lamb_sup_k_i\n",
    "                t += Del\n",
    "                lamb_k_i = mu[k]\n",
    "                for j in range(i):\n",
    "                    lamb_k_i += alpha[k, evArr[seq, j]] * np.exp(-delta[k, evArr[seq, j]]*\n",
    "                                                                 (t-tarr[seq, j]))\n",
    "                    \n",
    "                # Decide to accept the time\n",
    "                if lamb_k_i/lamb_sup_k_i > np.random.rand():\n",
    "                    C = False\n",
    "                    \n",
    "            t_i_k[k] = t\n",
    "        \n",
    "        # Store the earliest event\n",
    "        tarr[seq, i] = np.min(t_i_k)\n",
    "        evArr[seq, i] = np.argmin(t_i_k)"
   ]
  },
  {
   "cell_type": "code",
   "execution_count": 5,
   "metadata": {},
   "outputs": [],
   "source": [
    "t0arr = np.zeros((Nseq, I+1))\n",
    "t0arr[:, 1:] = tarr"
   ]
  },
  {
   "cell_type": "code",
   "execution_count": 6,
   "metadata": {},
   "outputs": [
    {
     "data": {
      "text/plain": [
       "array([ 0.        ,  0.24618728,  0.59853352,  0.90344368,  2.0488286 ,\n",
       "        2.21266063,  2.23426939,  2.24472369,  2.31341376,  2.43084177,\n",
       "        2.53533944,  2.81105096,  3.24652072,  3.41113015,  4.70811786,\n",
       "        4.78176352,  5.14897777,  5.52720276,  5.9132132 ,  6.0158646 ,\n",
       "        6.80453826,  6.89844776,  7.17759905,  8.1436063 ,  8.3469454 ,\n",
       "        8.65030729,  8.7403492 ,  8.74819479,  8.93232472,  9.287554  ,\n",
       "        9.53425959, 11.07923162, 11.24242628, 11.47913685, 11.57236845,\n",
       "       11.65066927, 12.73414155, 12.74958148, 13.41983491, 13.53702436,\n",
       "       13.55951013, 13.56234879, 13.56899595, 13.635658  , 13.68139901,\n",
       "       13.83981354, 14.58773325, 15.50278929, 16.2687381 , 16.69719912,\n",
       "       16.7709882 ])"
      ]
     },
     "execution_count": 6,
     "metadata": {},
     "output_type": "execute_result"
    }
   ],
   "source": [
    "t0arr[1]"
   ]
  },
  {
   "cell_type": "code",
   "execution_count": 7,
   "metadata": {},
   "outputs": [],
   "source": [
    "np.save(\"Events.npy\", evArr)\n",
    "np.save(\"Times.npy\", t0arr)\n",
    "np.save(\"Mu.npy\", mu)\n",
    "np.save(\"alpha.npy\", alpha)\n",
    "np.save(\"Delta.npy\", delta)"
   ]
  },
  {
   "cell_type": "code",
   "execution_count": 8,
   "metadata": {},
   "outputs": [
    {
     "data": {
      "text/plain": [
       "(100, 50)"
      ]
     },
     "execution_count": 8,
     "metadata": {},
     "output_type": "execute_result"
    }
   ],
   "source": [
    "evArr.shape"
   ]
  },
  {
   "cell_type": "code",
   "execution_count": null,
   "metadata": {},
   "outputs": [],
   "source": []
  }
 ],
 "metadata": {
  "kernelspec": {
   "display_name": "Python 3",
   "language": "python",
   "name": "python3"
  },
  "language_info": {
   "codemirror_mode": {
    "name": "ipython",
    "version": 3
   },
   "file_extension": ".py",
   "mimetype": "text/x-python",
   "name": "python",
   "nbconvert_exporter": "python",
   "pygments_lexer": "ipython3",
   "version": "3.8.10"
  }
 },
 "nbformat": 4,
 "nbformat_minor": 4
}
