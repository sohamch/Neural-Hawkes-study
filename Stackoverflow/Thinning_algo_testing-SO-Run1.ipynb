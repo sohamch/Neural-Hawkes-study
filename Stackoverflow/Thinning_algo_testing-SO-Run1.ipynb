{
 "cells": [
  {
   "cell_type": "markdown",
   "metadata": {
    "id": "y2SPfXe8m7gg"
   },
   "source": [
    "# Important Note:\n",
    "### The thinning algorithm is a stochastic process. So different runs of this testing code can give slightly different results."
   ]
  },
  {
   "cell_type": "code",
   "execution_count": null,
   "metadata": {},
   "outputs": [],
   "source": [
    "import sys\n",
    "sys.path.append(\"../\")"
   ]
  },
  {
   "cell_type": "code",
   "execution_count": null,
   "metadata": {
    "id": "dXxS634lm7gq"
   },
   "outputs": [],
   "source": [
    "import numpy as np\n",
    "import torch as pt\n",
    "from tqdm import tqdm"
   ]
  },
  {
   "cell_type": "markdown",
   "metadata": {
    "id": "vnAVF_yum7gr"
   },
   "source": [
    "# Thinning algorithm for time prediction\n",
    "Note : Here we are interested to see if given a known history of times and events, the neural network can predict the next time and event type or not. So, to test the $(i+1)^{th}$ arrival time and event, we will use the actual history (event type and time) of the sequence upto the $i^{th}$ step."
   ]
  },
  {
   "cell_type": "code",
   "execution_count": null,
   "metadata": {
    "id": "bC8fheCum7gr"
   },
   "outputs": [],
   "source": [
    "# For now, we'll test the data one sequence at a time\n",
    "def getSeqData(net, seq, seqLabels, LenSeq, times):\n",
    "    \n",
    "    # net : trained network\n",
    "    # seq : one-hot encoded sequence\n",
    "    # seqLabels : labels of outcomes at each time stamp\n",
    "    # times : times of each event in the sequence\n",
    "    \n",
    "    N_events = LenSeq\n",
    "    N_event_types = seq.shape[1]\n",
    "    mask = seqLabels.ge(-1+0.0001)\n",
    "    \n",
    "    # Send the sequence through the network\n",
    "    lambOuts, CLows, Cbars, deltas, OutGates = net.forward(seq.view(-1, N_events, N_event_types),\n",
    "                                                           mask.view(-1, N_events), times.view(-1, N_events+1))\n",
    "    \n",
    "    # Arrays to store predicted times and events\n",
    "    events_predicted = pt.zeros(N_events, dtype=int)\n",
    "    times_predicted = pt.zeros(N_events)\n",
    "    \n",
    "    # Array to store event prediction accuracy\n",
    "    corrects = pt.zeros(N_events, dtype=int) # 0 means wrong, 1 means correct\n",
    "    \n",
    "    for i in range(N_events): #tqdm(, position=0, leave=True):\n",
    "        \n",
    "        # First, let's work on computing the supremum rate\n",
    "        \n",
    "        # We need the LSTM parameters at this time index\n",
    "        cL = CLows[:, i]\n",
    "        cB = Cbars[:, i]\n",
    "        o = OutGates[:, i]\n",
    "        delta = deltas[:, i]\n",
    "        tLow = times[i].item()\n",
    "        \n",
    "        # With cL and cB, we compute hL and hB\n",
    "        hL = o * (2*net.sigma(2*cL) - 1)\n",
    "        hB = o * (2*net.sigma(2*cB) - 1)\n",
    "        \n",
    "        # Once hMax is computed, we need to compute the lambda_til\n",
    "        lamb_til_L = net.L_lamb_til(hL)\n",
    "        lamb_til_B = net.L_lamb_til(hB)\n",
    "        \n",
    "        # Next, we have to select the maximum\n",
    "        lamb_til_max = pt.max(lamb_til_L, lamb_til_B)\n",
    "        \n",
    "        # Then, we calculate lambda_max\n",
    "        lambda_max = net.scale * pt.log(1 + pt.exp(lamb_til_max/net.scale)).view(N_event_types)\n",
    "        # so, lambda_max[k] contains the supremum rate of event type k\n",
    "        \n",
    "        lamb_max_total = pt.sum(lambda_max).item()\n",
    "        # print(lamb_max_total)\n",
    "        # Next, we draw some random times and keep testing for arrival\n",
    "        t = tLow\n",
    "        cond = True\n",
    "        while cond:\n",
    "            # draw random increment\n",
    "            Del = -np.log(np.random.rand())/lamb_max_total\n",
    "            t += Del\n",
    "            ct = cB + (cL - cB)*pt.exp(-(t - tLow)*delta)\n",
    "            ht = o * (2*net.sigma(2*ct) - 1)\n",
    "            lamb_til = net.L_lamb_til(ht)\n",
    "            lamb = net.scale * pt.log(1 + pt.exp(lamb_til/net.scale)).view(N_event_types)\n",
    "            lamb_total = pt.sum(lamb).item()\n",
    "            \n",
    "            # Next, acceptance test\n",
    "            if lamb_total/lamb_max_total > np.random.rand():\n",
    "                # then we accept\n",
    "                cond=False\n",
    "                \n",
    "                # once accepted we have to disaggregate to get the next event\n",
    "                # First, convert the intensities into relative probabilites\n",
    "                lamb_prob = lamb/lamb_total\n",
    "                \n",
    "                # Then convert this into cumulative probabilities\n",
    "                # print(lamb_prob)\n",
    "                lamb_csum = pt.cumsum(lamb_prob, dim=0)\n",
    "                \n",
    "                # relative probs example : [0.1, 0.5, 0.4]\n",
    "                # cumulative : [0.1, 0.6, 1.0]\n",
    "                \n",
    "                # Then draw a random number in (0,1)\n",
    "                rn = np.random.rand()\n",
    "                \n",
    "                # Find which event this corresponds to\n",
    "                ev = pt.searchsorted(lamb_csum, rn).item()\n",
    "                \n",
    "                # store this\n",
    "                events_predicted[i] = ev\n",
    "                times_predicted[i] = t\n",
    "                if ev == seqLabels[i].item():\n",
    "                    corrects[i] = 1\n",
    "    \n",
    "    return times_predicted, events_predicted, corrects"
   ]
  },
  {
   "cell_type": "markdown",
   "metadata": {
    "id": "31XbliTVm7gu"
   },
   "source": [
    "# Load the network upto 28 epochs of training"
   ]
  },
  {
   "cell_type": "code",
   "execution_count": null,
   "metadata": {
    "id": "MZnrePCZm7gv"
   },
   "outputs": [],
   "source": [
    "net = pt.load(\"SO_Nets/TrainNet_SO_28ep.pt\")"
   ]
  },
  {
   "cell_type": "markdown",
   "metadata": {
    "id": "ZyDczU5cnSYd"
   },
   "source": [
    "# Load the testing data from HDF5 file"
   ]
  },
  {
   "cell_type": "code",
   "execution_count": null,
   "metadata": {
    "id": "MZd_D2ezm7gv"
   },
   "outputs": [],
   "source": [
    "import h5py\n",
    "with h5py.File(\"SOTestData.h5\", \"r\") as fl:\n",
    "    EventsData = np.array(fl[\"EventsData\"])\n",
    "    timesData = np.array(fl[\"TimesData\"])\n",
    "    timeMaxData = np.array(fl[\"TimeMaxData\"])\n",
    "    SeqLengthData = np.array(fl[\"SeqLengthData\"])"
   ]
  },
  {
   "cell_type": "code",
   "execution_count": null,
   "metadata": {
    "id": "kf4WwXR0m7gw"
   },
   "outputs": [],
   "source": [
    "# Make one-hot encoded events\n",
    "# Make the events one hot encoded\n",
    "N_test = EventsData.shape[0]\n",
    "N_seq_Max = EventsData.shape[1]\n",
    "N_types = 22\n",
    "Events_one_hot = np.zeros((N_test, N_seq_Max, N_types))\n",
    "for seq in range(N_test):\n",
    "    for step in range(SeqLengthData[seq]):\n",
    "        ev = EventsData[seq, step]\n",
    "        Events_one_hot[seq, step, ev] = 1.0"
   ]
  },
  {
   "cell_type": "code",
   "execution_count": null,
   "metadata": {
    "id": "HHiE50amm7gx"
   },
   "outputs": [],
   "source": [
    "# Then convert everything to torch tensors\n",
    "# Since maximum times are very large here,\n",
    "# we scale them down so that gradients don't explode\n",
    "# This doesn't affect final results, since we can always\n",
    "# scale testing times by the same amount too\n",
    "timeScale = 1.0\n",
    "EvTens = pt.tensor(Events_one_hot).double()\n",
    "EvIndTens = pt.tensor(EventsData).long()\n",
    "timeTensor = pt.tensor(timesData/timeScale).double()\n",
    "tMaxTensor = pt.tensor(timeMaxData/timeScale).double()"
   ]
  },
  {
   "cell_type": "markdown",
   "metadata": {
    "id": "TKADLSUPm7gx"
   },
   "source": [
    "## Let's first test a randomly chosen sample"
   ]
  },
  {
   "cell_type": "code",
   "execution_count": null,
   "metadata": {
    "id": "iSaCaawfm7gy"
   },
   "outputs": [],
   "source": [
    "Idx = 2\n",
    "LenSeq = SeqLengthData[Idx]\n",
    "seq, seqLabels, times = EvTens[Idx, :LenSeq], EvIndTens[Idx, :LenSeq],  timeTensor[Idx, :LenSeq+1]"
   ]
  },
  {
   "cell_type": "code",
   "execution_count": null,
   "metadata": {
    "id": "V9Hx7b4Qm7gy"
   },
   "outputs": [],
   "source": [
    "times_predicted, events_predicted, corrects = getSeqData(net, seq, seqLabels, LenSeq, times)"
   ]
  },
  {
   "cell_type": "code",
   "execution_count": null,
   "metadata": {
    "id": "iHwL63jqm7gz",
    "outputId": "09989fe7-12f6-4f18-bb96-36aa63aa411e"
   },
   "outputs": [
    {
     "data": {
      "text/plain": [
       "tensor(0.9412)"
      ]
     },
     "execution_count": 9,
     "metadata": {
      "tags": []
     },
     "output_type": "execute_result"
    }
   ],
   "source": [
    "pt.sum(corrects)/len(corrects)"
   ]
  },
  {
   "cell_type": "markdown",
   "metadata": {
    "id": "DulDtutlm7g0"
   },
   "source": [
    "## Now let's test all the testing sequences\n",
    "Note: The thinning algorithm is stochastic, so sometimes it might take a while to predict the next arrival time."
   ]
  },
  {
   "cell_type": "code",
   "execution_count": null,
   "metadata": {
    "id": "_7iFWxiWm7g1",
    "outputId": "bade162e-a5ba-41b6-fcc9-7dc9d4732b09"
   },
   "outputs": [
    {
     "name": "stderr",
     "output_type": "stream",
     "text": [
      "100%|██████████| 1326/1326 [06:06<00:00,  3.62it/s] \n"
     ]
    }
   ],
   "source": [
    "times_Test = pt.ones(N_test, N_seq_Max)*-1  # negative time means no event occurred\n",
    "correctFrac = pt.zeros(N_test)\n",
    "# perm = pt.randperm(N_test) # select random test samples\n",
    "for Idx in tqdm(range(N_test), position=0, leave=True):\n",
    "    LenSeq = SeqLengthData[Idx]\n",
    "    \n",
    "    seq, seqLabels, times = EvTens[Idx, :LenSeq], EvIndTens[Idx, :LenSeq],\\\n",
    "    timeTensor[Idx, :LenSeq+1]\n",
    "    \n",
    "    times_predicted, events_predicted, corrects = getSeqData(net, seq, seqLabels, LenSeq, times)\n",
    "    \n",
    "    correctFrac[Idx] = pt.sum(corrects)/len(corrects)\n",
    "    \n",
    "    times_Test[Idx, :LenSeq] = times_predicted"
   ]
  },
  {
   "cell_type": "code",
   "execution_count": null,
   "metadata": {
    "id": "Ln3wMxPgm7g1"
   },
   "outputs": [],
   "source": [
    "correctFrac = correctFrac.numpy()\n",
    "times_Test = times_Test.numpy()"
   ]
  },
  {
   "cell_type": "code",
   "execution_count": null,
   "metadata": {
    "id": "bWGnlofbm7g2",
    "outputId": "dcfa55b2-cae4-4f9a-98c7-288b2f968d60"
   },
   "outputs": [
    {
     "name": "stdout",
     "output_type": "stream",
     "text": [
      "Mean next event type prediction accuracy: 98.2660%\n"
     ]
    }
   ],
   "source": [
    "print(\"Mean next event type prediction accuracy: {:.4f}%\".format(np.mean(correctFrac)*100))"
   ]
  },
  {
   "cell_type": "code",
   "execution_count": null,
   "metadata": {
    "id": "QYMTtyKxm7g2"
   },
   "outputs": [],
   "source": [
    "import matplotlib.pyplot as plt"
   ]
  },
  {
   "cell_type": "code",
   "execution_count": null,
   "metadata": {
    "id": "OsORPAfEm7g2"
   },
   "outputs": [],
   "source": [
    "# Let's plot a few time evolutions and predicted next arrival time\n",
    "# Based on known history\n",
    "# Since the first step has no history to infer from,\n",
    "# We check from the second step onward\n",
    "Idx1 = 100\n",
    "Idx2 = 250\n",
    "TimesActual1 = timesData[Idx1, 2:]\n",
    "TimesPredicted1 = times_Test[Idx1,1:]\n",
    "LenSeq1 = SeqLengthData[Idx1]\n",
    "\n",
    "TimesActual2 = timesData[Idx2, 2:]\n",
    "TimesPredicted2 = times_Test[Idx2, 1:]\n",
    "LenSeq2 = SeqLengthData[Idx2]"
   ]
  },
  {
   "cell_type": "code",
   "execution_count": null,
   "metadata": {
    "id": "m4v1nN8im7g3",
    "outputId": "85ee0077-db34-41bd-f34d-64d6a3909434"
   },
   "outputs": [
    {
     "data": {
      "text/plain": [
       "Text(0.5, 0, 'Time Step')"
      ]
     },
     "execution_count": 15,
     "metadata": {
      "tags": []
     },
     "output_type": "execute_result"
    },
    {
     "data": {
      "image/png": "[encoded data removed]",
      "text/plain": [
       "<Figure size 720x360 with 2 Axes>"
      ]
     },
     "metadata": {
      "needs_background": "light",
      "tags": []
     },
     "output_type": "display_data"
    }
   ],
   "source": [
    "plt.figure(figsize=(10,5))\n",
    "plt.subplot(1,2,1)\n",
    "plt.plot(np.arange(2, LenSeq1+1, 1), TimesActual1[:LenSeq1-1], lw=2, label=\"Actual\")\n",
    "plt.plot(np.arange(2, LenSeq1+1, 1), TimesPredicted1[:LenSeq1-1], lw=2, label=\"Predicted\")\n",
    "plt.legend(fontsize=14)\n",
    "plt.ylabel(\"Arrival time\", fontsize=16)\n",
    "plt.xlabel(\"Time Step\", fontsize=16)\n",
    "plt.subplot(1,2,2)\n",
    "plt.plot(np.arange(2, LenSeq2+1, 1), TimesActual2[:LenSeq2-1], lw=2, label=\"Actual\")\n",
    "plt.plot(np.arange(2, LenSeq2+1, 1), TimesPredicted2[:LenSeq2-1], lw=2, label=\"Predicted\")\n",
    "plt.legend(fontsize=14)\n",
    "plt.xlabel(\"Time Step\", fontsize=16)"
   ]
  },
  {
   "cell_type": "markdown",
   "metadata": {
    "id": "hR0qiIwTm7g3"
   },
   "source": [
    "# Next, let's compute the RMSE"
   ]
  },
  {
   "cell_type": "code",
   "execution_count": null,
   "metadata": {
    "id": "gQhAbq7zm7g4"
   },
   "outputs": [],
   "source": [
    "SeqAvgs = np.zeros(N_test)\n",
    "SeqLogAvgs = np.zeros(N_test)\n",
    "for seq in range(N_test):\n",
    "    LenSeq = SeqLengthData[seq]\n",
    "    # In the actual times, the 0^th time is stored as 0\n",
    "    # The 1^st time has no history before it,\n",
    "    # So we test the 2^nd time step onward,\n",
    "    timeActual = timesData[seq, 2:LenSeq+1]\n",
    "    timePredicted = times_Test[seq, 1:LenSeq]\n",
    "    \n",
    "    dT2 = (timePredicted - timeActual)**2\n",
    "    dT2_avg = np.sum(dT2)/LenSeq\n",
    "    SeqAvgs[seq] = dT2_avg"
   ]
  },
  {
   "cell_type": "code",
   "execution_count": null,
   "metadata": {
    "id": "DD8em0SQm7g4"
   },
   "outputs": [],
   "source": [
    "# First, let's get rid of outliers\n",
    "# We define outliers as those which have MSE of predicted time > 1e4\n",
    "SeqAvgs_non_outlier = []\n",
    "count = 0\n",
    "for i in range(N_test):\n",
    "    if SeqAvgs[i] > 10000:\n",
    "        count += 1\n",
    "    else:\n",
    "        SeqAvgs_non_outlier.append(SeqAvgs[i])"
   ]
  },
  {
   "cell_type": "code",
   "execution_count": null,
   "metadata": {
    "id": "O_4Bba-5m7g5",
    "outputId": "f8db991e-4daa-42f4-917c-9e8bde01b026"
   },
   "outputs": [
    {
     "name": "stdout",
     "output_type": "stream",
     "text": [
      "Percentage of samples with MSE > 10000 (Outliers): 1.5083%\n"
     ]
    }
   ],
   "source": [
    "print(\"Percentage of samples with MSE > 10000 (Outliers): {:.4f}%\".format(count*100/N_test))"
   ]
  },
  {
   "cell_type": "code",
   "execution_count": null,
   "metadata": {
    "id": "Ih7C-sHNm7g5",
    "outputId": "901c8d79-8d87-453d-96c5-14a035fe752d"
   },
   "outputs": [
    {
     "name": "stdout",
     "output_type": "stream",
     "text": [
      "Average Root Mean squared error across 1306 Non-outlier test sequences: 2.976643008071267\n"
     ]
    }
   ],
   "source": [
    "print(\"Average Root Mean squared error across \" \n",
    "      \"{} Non-outlier test sequences: {}\".format(len(SeqAvgs_non_outlier),\n",
    "                                                 np.sqrt(np.mean(SeqAvgs_non_outlier))))"
   ]
  },
  {
   "cell_type": "code",
   "execution_count": null,
   "metadata": {
    "id": "W0iivCHVm7g6"
   },
   "outputs": [],
   "source": []
  }
 ],
 "metadata": {
  "colab": {
   "collapsed_sections": [],
   "name": "Thinning_algo_testing-SO-Run1.ipynb",
   "provenance": []
  },
  "kernelspec": {
   "display_name": "Python 3",
   "language": "python",
   "name": "python3"
  },
  "language_info": {
   "codemirror_mode": {
    "name": "ipython",
    "version": 3
   },
   "file_extension": ".py",
   "mimetype": "text/x-python",
   "name": "python",
   "nbconvert_exporter": "python",
   "pygments_lexer": "ipython3",
   "version": "3.6.9"
  }
 },
 "nbformat": 4,
 "nbformat_minor": 1
}
