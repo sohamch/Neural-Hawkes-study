{
 "cells": [
  {
   "cell_type": "markdown",
   "metadata": {
    "id": "7RB5KUdCvXz1"
   },
   "source": [
    "# Important Note:\n",
    "### The thinning algorithm is a stochastic process. So different runs of this testing code can give slightly different results."
   ]
  },
  {
   "cell_type": "code",
   "execution_count": null,
   "metadata": {},
   "outputs": [],
   "source": [
    "import sys\n",
    "sys.path.append(\"../\")"
   ]
  },
  {
   "cell_type": "code",
   "execution_count": null,
   "metadata": {
    "id": "e1xv7kcZvXz8"
   },
   "outputs": [],
   "source": [
    "import numpy as np\n",
    "import torch as pt\n",
    "from tqdm import tqdm"
   ]
  },
  {
   "cell_type": "markdown",
   "metadata": {
    "id": "Iy60ZjnevXz_"
   },
   "source": [
    "# Thinning algorithm for time prediction\n",
    "Note : Here we are interested to see if given a known history of times and events, the neural network can predict the next time and event type or not. So, to test the $(i+1)^{th}$ arrival time and event, we will use the actual history (event type and time) of the sequence upto the $i^{th}$ step."
   ]
  },
  {
   "cell_type": "code",
   "execution_count": null,
   "metadata": {
    "id": "UzDqmsv3vX0B"
   },
   "outputs": [],
   "source": [
    "# For now, we'll test the data one sequence at a time\n",
    "def getSeqData(net, seq, seqLabels, LenSeq, times):\n",
    "    \n",
    "    # net : trained network\n",
    "    # seq : one-hot encoded sequence\n",
    "    # seqLabels : labels of outcomes at each time stamp\n",
    "    # times : times of each event in the sequence\n",
    "    \n",
    "    N_events = LenSeq\n",
    "    N_event_types = seq.shape[1]\n",
    "    mask = seqLabels.ge(-1+0.0001)\n",
    "    \n",
    "    # Send the sequence through the network\n",
    "    lambOuts, CLows, Cbars, deltas, OutGates = net.forward(seq.view(-1, N_events, N_event_types),\n",
    "                                                           mask.view(-1, N_events), times.view(-1, N_events+1))\n",
    "    \n",
    "    # Arrays to store predicted times and events\n",
    "    events_predicted = pt.zeros(N_events, dtype=int)\n",
    "    times_predicted = pt.zeros(N_events)\n",
    "    \n",
    "    # Array to store event prediction accuracy\n",
    "    corrects = pt.zeros(N_events, dtype=int) # 0 means wrong, 1 means correct\n",
    "    \n",
    "    for i in range(N_events): #tqdm(, position=0, leave=True):\n",
    "        \n",
    "        # First, let's work on computing the supremum rate\n",
    "        \n",
    "        # We need the LSTM parameters at this time index\n",
    "        cL = CLows[:, i]\n",
    "        cB = Cbars[:, i]\n",
    "        o = OutGates[:, i]\n",
    "        delta = deltas[:, i]\n",
    "        tLow = times[i].item()\n",
    "        \n",
    "        # With cL and cB, we compute hL and hB\n",
    "        hL = o * (2*net.sigma(2*cL) - 1)\n",
    "        hB = o * (2*net.sigma(2*cB) - 1)\n",
    "        \n",
    "        # Once hMax is computed, we need to compute the lambda_til\n",
    "        lamb_til_L = net.L_lamb_til(hL)\n",
    "        lamb_til_B = net.L_lamb_til(hB)\n",
    "        \n",
    "        # Next, we have to select the maximum\n",
    "        lamb_til_max = pt.max(lamb_til_L, lamb_til_B)\n",
    "        \n",
    "        # Then, we calculate lambda_max\n",
    "        lambda_max = net.scale * pt.log(1 + pt.exp(lamb_til_max/net.scale)).view(N_event_types)\n",
    "        # so, lambda_max[k] contains the supremum rate of event type k\n",
    "        \n",
    "        lamb_max_total = pt.sum(lambda_max).item()\n",
    "        # print(lamb_max_total)\n",
    "        # Next, we draw some random times and keep testing for arrival\n",
    "        t = tLow\n",
    "        cond = True\n",
    "        while cond:\n",
    "            # draw random increment\n",
    "            Del = -np.log(np.random.rand())/lamb_max_total\n",
    "            t += Del\n",
    "            ct = cB + (cL - cB)*pt.exp(-(t - tLow)*delta)\n",
    "            ht = o * (2*net.sigma(2*ct) - 1)\n",
    "            lamb_til = net.L_lamb_til(ht)\n",
    "            lamb = net.scale * pt.log(1 + pt.exp(lamb_til/net.scale)).view(N_event_types)\n",
    "            lamb_total = pt.sum(lamb).item()\n",
    "            \n",
    "            # Next, acceptance test\n",
    "            if lamb_total/lamb_max_total > np.random.rand():\n",
    "                # then we accept\n",
    "                cond=False\n",
    "                \n",
    "                # once accepted we have to disaggregate to get the next event\n",
    "                # First, convert the intensities into relative probabilites\n",
    "                lamb_prob = lamb/lamb_total\n",
    "                \n",
    "                # Then convert this into cumulative probabilities\n",
    "                # print(lamb_prob)\n",
    "                lamb_csum = pt.cumsum(lamb_prob, dim=0)\n",
    "                \n",
    "                # relative probs example : [0.1, 0.5, 0.4]\n",
    "                # cumulative : [0.1, 0.6, 1.0]\n",
    "                \n",
    "                # Then draw a random number in (0,1)\n",
    "                rn = np.random.rand()\n",
    "                \n",
    "                # Find which event this corresponds to\n",
    "                ev = pt.searchsorted(lamb_csum, rn).item()\n",
    "                \n",
    "                # store this\n",
    "                events_predicted[i] = ev\n",
    "                times_predicted[i] = t\n",
    "                if ev == seqLabels[i].item():\n",
    "                    corrects[i] = 1\n",
    "    \n",
    "    return times_predicted, events_predicted, corrects"
   ]
  },
  {
   "cell_type": "markdown",
   "metadata": {
    "id": "uKKWbD_SvX0L"
   },
   "source": [
    "# Load the network upto 28 epochs of training"
   ]
  },
  {
   "cell_type": "code",
   "execution_count": null,
   "metadata": {
    "id": "deoQegDDvX0M"
   },
   "outputs": [],
   "source": [
    "net = pt.load(\"SO_Nets/TrainNet_SO_28ep.pt\")"
   ]
  },
  {
   "cell_type": "code",
   "execution_count": null,
   "metadata": {
    "id": "KlN6YhQOvX0N"
   },
   "outputs": [],
   "source": [
    "import h5py\n",
    "with h5py.File(\"SOTestData.h5\", \"r\") as fl:\n",
    "    EventsData = np.array(fl[\"EventsData\"])\n",
    "    timesData = np.array(fl[\"TimesData\"])\n",
    "    timeMaxData = np.array(fl[\"TimeMaxData\"])\n",
    "    SeqLengthData = np.array(fl[\"SeqLengthData\"])"
   ]
  },
  {
   "cell_type": "code",
   "execution_count": null,
   "metadata": {
    "id": "rrsUODt7vX0P"
   },
   "outputs": [],
   "source": [
    "# Make one-hot encoded events\n",
    "# Make the events one hot encoded\n",
    "N_test = EventsData.shape[0]\n",
    "N_seq_Max = EventsData.shape[1]\n",
    "N_types = 22\n",
    "Events_one_hot = np.zeros((N_test, N_seq_Max, N_types))\n",
    "for seq in range(N_test):\n",
    "    for step in range(SeqLengthData[seq]):\n",
    "        ev = EventsData[seq, step]\n",
    "        Events_one_hot[seq, step, ev] = 1.0"
   ]
  },
  {
   "cell_type": "code",
   "execution_count": null,
   "metadata": {
    "id": "T-SQE2pxvX0Q"
   },
   "outputs": [],
   "source": [
    "# Then convert everything to torch tensors\n",
    "# Since maximum times are very large here,\n",
    "# we scale them down so that gradients don't explode\n",
    "# This doesn't affect final results, since we can always\n",
    "# scale testing times by the same amount too\n",
    "timeScale = 1.0\n",
    "EvTens = pt.tensor(Events_one_hot).double()\n",
    "EvIndTens = pt.tensor(EventsData).long()\n",
    "timeTensor = pt.tensor(timesData/timeScale).double()\n",
    "tMaxTensor = pt.tensor(timeMaxData/timeScale).double()"
   ]
  },
  {
   "cell_type": "markdown",
   "metadata": {
    "id": "BRZNMALavX0S"
   },
   "source": [
    "## Let's first test a randomly chosen sample"
   ]
  },
  {
   "cell_type": "code",
   "execution_count": null,
   "metadata": {
    "id": "DqqpfqUmvX0T"
   },
   "outputs": [],
   "source": [
    "Idx = 354\n",
    "LenSeq = SeqLengthData[Idx]\n",
    "seq, seqLabels, times = EvTens[Idx, :LenSeq], EvIndTens[Idx, :LenSeq],  timeTensor[Idx, :LenSeq+1]"
   ]
  },
  {
   "cell_type": "code",
   "execution_count": null,
   "metadata": {
    "id": "r6LRRnjTvX0T"
   },
   "outputs": [],
   "source": [
    "times_predicted, events_predicted, corrects = getSeqData(net, seq, seqLabels, LenSeq, times)"
   ]
  },
  {
   "cell_type": "code",
   "execution_count": null,
   "metadata": {
    "id": "DXCFPwEpvX0U",
    "outputId": "44c77c4c-a184-4e49-e04a-7f8dfae69404"
   },
   "outputs": [
    {
     "data": {
      "text/plain": [
       "tensor(1.)"
      ]
     },
     "execution_count": 19,
     "metadata": {
      "tags": []
     },
     "output_type": "execute_result"
    }
   ],
   "source": [
    "pt.sum(corrects)/len(corrects)"
   ]
  },
  {
   "cell_type": "markdown",
   "metadata": {
    "id": "ABPnuwAhvX0V"
   },
   "source": [
    "## Now let's test all the testing sequences\n",
    "Note: The thinning algorithm is stochastic, so sometimes it might take a while to predict the next arrival time."
   ]
  },
  {
   "cell_type": "code",
   "execution_count": null,
   "metadata": {
    "id": "_R86R-_HvX0V",
    "outputId": "83aad74f-b7a3-4bfe-9b38-f745f42e67e6"
   },
   "outputs": [
    {
     "name": "stderr",
     "output_type": "stream",
     "text": [
      "100%|██████████| 1326/1326 [04:17<00:00,  5.14it/s]\n"
     ]
    }
   ],
   "source": [
    "times_Test = pt.ones(N_test, N_seq_Max)*-1  # negative time means no event occurred\n",
    "correctFrac = pt.zeros(N_test)\n",
    "# perm = pt.randperm(N_test) # select random test samples\n",
    "for Idx in tqdm(range(N_test), position=0, leave=True):\n",
    "    LenSeq = SeqLengthData[Idx]\n",
    "    \n",
    "    seq, seqLabels, times = EvTens[Idx, :LenSeq], EvIndTens[Idx, :LenSeq],\\\n",
    "    timeTensor[Idx, :LenSeq+1]\n",
    "    \n",
    "    times_predicted, events_predicted, corrects = getSeqData(net, seq, seqLabels, LenSeq, times)\n",
    "    \n",
    "    correctFrac[Idx] = pt.sum(corrects)/len(corrects)\n",
    "    \n",
    "    times_Test[Idx, :LenSeq] = times_predicted"
   ]
  },
  {
   "cell_type": "code",
   "execution_count": null,
   "metadata": {
    "id": "xfdRWefRvX0W"
   },
   "outputs": [],
   "source": [
    "correctFrac = correctFrac.numpy()\n",
    "times_Test = times_Test.numpy()"
   ]
  },
  {
   "cell_type": "code",
   "execution_count": null,
   "metadata": {
    "id": "B9TvfnfVvX0X",
    "outputId": "1968fbb3-0571-43e4-c5c6-5632ad341f42"
   },
   "outputs": [
    {
     "name": "stdout",
     "output_type": "stream",
     "text": [
      "Mean next event type prediction accuracy: 98.1851%\n"
     ]
    }
   ],
   "source": [
    "print(\"Mean next event type prediction accuracy: {:.4f}%\".format(np.mean(correctFrac)*100))"
   ]
  },
  {
   "cell_type": "code",
   "execution_count": null,
   "metadata": {
    "id": "2jXGy0i-vX0Y"
   },
   "outputs": [],
   "source": [
    "import matplotlib.pyplot as plt"
   ]
  },
  {
   "cell_type": "code",
   "execution_count": null,
   "metadata": {
    "id": "2moB59pzvX0Z"
   },
   "outputs": [],
   "source": [
    "# Let's plot a few time evolutions and predicted next arrival time\n",
    "# Based on known history\n",
    "# Since the first step has no history to infer from,\n",
    "# We check from the second step onward\n",
    "Idx1 = 100\n",
    "Idx2 = 250\n",
    "TimesActual1 = timesData[Idx1, 2:]\n",
    "TimesPredicted1 = times_Test[Idx1,1:]\n",
    "LenSeq1 = SeqLengthData[Idx1]\n",
    "\n",
    "TimesActual2 = timesData[Idx2, 2:]\n",
    "TimesPredicted2 = times_Test[Idx2, 1:]\n",
    "LenSeq2 = SeqLengthData[Idx2]"
   ]
  },
  {
   "cell_type": "code",
   "execution_count": null,
   "metadata": {
    "id": "OSlkEqCDvX0a",
    "outputId": "b4efa0a9-403d-4e9c-d688-af63f8a860e0"
   },
   "outputs": [
    {
     "data": {
      "text/plain": [
       "Text(0.5, 0, 'Time Step')"
      ]
     },
     "execution_count": 25,
     "metadata": {
      "tags": []
     },
     "output_type": "execute_result"
    },
    {
     "data": {
      "image/png": "[encoded data removed]",
      "text/plain": [
       "<Figure size 720x360 with 2 Axes>"
      ]
     },
     "metadata": {
      "needs_background": "light",
      "tags": []
     },
     "output_type": "display_data"
    }
   ],
   "source": [
    "plt.figure(figsize=(10,5))\n",
    "plt.subplot(1,2,1)\n",
    "plt.plot(np.arange(2, LenSeq1+1, 1), TimesActual1[:LenSeq1-1], lw=2, label=\"Actual\")\n",
    "plt.plot(np.arange(2, LenSeq1+1, 1), TimesPredicted1[:LenSeq1-1], lw=2, label=\"Predicted\")\n",
    "plt.legend(fontsize=14)\n",
    "plt.ylabel(\"Arrival time\", fontsize=16)\n",
    "plt.xlabel(\"Time Step\", fontsize=16)\n",
    "plt.subplot(1,2,2)\n",
    "plt.plot(np.arange(2, LenSeq2+1, 1), TimesActual2[:LenSeq2-1], lw=2, label=\"Actual\")\n",
    "plt.plot(np.arange(2, LenSeq2+1, 1), TimesPredicted2[:LenSeq2-1], lw=2, label=\"Predicted\")\n",
    "plt.legend(fontsize=14)\n",
    "plt.xlabel(\"Time Step\", fontsize=16)"
   ]
  },
  {
   "cell_type": "markdown",
   "metadata": {
    "id": "FwEgsj0fvX0c"
   },
   "source": [
    "# Next, let's compute the RMSE"
   ]
  },
  {
   "cell_type": "code",
   "execution_count": null,
   "metadata": {
    "id": "a-b6heEkvX0c"
   },
   "outputs": [],
   "source": [
    "SeqAvgs = np.zeros(N_test)\n",
    "SeqLogAvgs = np.zeros(N_test)\n",
    "for seq in range(N_test):\n",
    "    LenSeq = SeqLengthData[seq]\n",
    "    # In the actual times, the 0^th time is stored as 0\n",
    "    # The 1^st time has no history before it,\n",
    "    # So we test the 2^nd time step onward,\n",
    "    timeActual = timesData[seq, 2:LenSeq+1]\n",
    "    timePredicted = times_Test[seq, 1:LenSeq]\n",
    "    \n",
    "    dT2 = (timePredicted - timeActual)**2\n",
    "    dT2_avg = np.sum(dT2)/LenSeq\n",
    "    SeqAvgs[seq] = dT2_avg"
   ]
  },
  {
   "cell_type": "code",
   "execution_count": null,
   "metadata": {
    "id": "JurtrGNlvX0d"
   },
   "outputs": [],
   "source": [
    "# First, let's get rid of outliers\n",
    "# We define outliers as those which have MSE of predicted time > 1e4\n",
    "SeqAvgs_non_outlier = []\n",
    "count = 0\n",
    "for i in range(N_test):\n",
    "    if SeqAvgs[i] > 10000:\n",
    "        count += 1\n",
    "    else:\n",
    "        SeqAvgs_non_outlier.append(SeqAvgs[i])"
   ]
  },
  {
   "cell_type": "code",
   "execution_count": null,
   "metadata": {
    "id": "IEM8lRD1vX0d",
    "outputId": "366844a9-41f6-4412-c3ab-376e8e60d22a"
   },
   "outputs": [
    {
     "name": "stdout",
     "output_type": "stream",
     "text": [
      "Percentage of samples with MSE > 10000 (Outliers): 0.7541%\n"
     ]
    }
   ],
   "source": [
    "print(\"Percentage of samples with MSE > 10000 (Outliers): {:.4f}%\".format(count*100/N_test))"
   ]
  },
  {
   "cell_type": "code",
   "execution_count": null,
   "metadata": {
    "id": "T2YclWEIvX0e",
    "outputId": "9343d0e9-467f-4fd9-bfc5-0bcfb497cb50"
   },
   "outputs": [
    {
     "name": "stdout",
     "output_type": "stream",
     "text": [
      "Average Root Mean squared error across 1316 Non-outlier test sequences: 3.344653124813389\n"
     ]
    }
   ],
   "source": [
    "print(\"Average Root Mean squared error across \" \n",
    "      \"{} Non-outlier test sequences: {}\".format(len(SeqAvgs_non_outlier),\n",
    "                                                 np.sqrt(np.mean(SeqAvgs_non_outlier))))"
   ]
  },
  {
   "cell_type": "code",
   "execution_count": null,
   "metadata": {
    "id": "DfaSnvcOvX0f"
   },
   "outputs": [],
   "source": []
  }
 ],
 "metadata": {
  "colab": {
   "collapsed_sections": [],
   "name": "Thinning_algo_testing-SO-Run2.ipynb",
   "provenance": []
  },
  "kernelspec": {
   "display_name": "Python 3",
   "language": "python",
   "name": "python3"
  },
  "language_info": {
   "codemirror_mode": {
    "name": "ipython",
    "version": 3
   },
   "file_extension": ".py",
   "mimetype": "text/x-python",
   "name": "python",
   "nbconvert_exporter": "python",
   "pygments_lexer": "ipython3",
   "version": "3.6.9"
  }
 },
 "nbformat": 4,
 "nbformat_minor": 1
}
