{
 "cells": [
  {
   "cell_type": "code",
   "execution_count": 1,
   "metadata": {},
   "outputs": [],
   "source": [
    "import pickle\n",
    "import numpy as np\n",
    "import torch as pt\n",
    "from tqdm import tqdm"
   ]
  },
  {
   "cell_type": "markdown",
   "metadata": {},
   "source": [
    "# First, Let's load the data"
   ]
  },
  {
   "cell_type": "code",
   "execution_count": 2,
   "metadata": {},
   "outputs": [],
   "source": [
    "with open(\"test.pkl\", \"rb\") as f:\n",
    "    dat = pickle.load(f, encoding='bytes')"
   ]
  },
  {
   "cell_type": "code",
   "execution_count": 3,
   "metadata": {},
   "outputs": [],
   "source": [
    "test = dat[b'test']"
   ]
  },
  {
   "cell_type": "code",
   "execution_count": 4,
   "metadata": {},
   "outputs": [],
   "source": [
    "lMax = 0\n",
    "for i in range(len(test)):\n",
    "    if len(test[i]) > lMax:\n",
    "        lMax = len(test[i])"
   ]
  },
  {
   "cell_type": "code",
   "execution_count": 5,
   "metadata": {},
   "outputs": [
    {
     "data": {
      "text/plain": [
       "(2000, 264)"
      ]
     },
     "execution_count": 5,
     "metadata": {},
     "output_type": "execute_result"
    }
   ],
   "source": [
    "len(test), lMax"
   ]
  },
  {
   "cell_type": "markdown",
   "metadata": {},
   "source": [
    "# Now, let's store everything in Numpy arrays"
   ]
  },
  {
   "cell_type": "code",
   "execution_count": 6,
   "metadata": {},
   "outputs": [],
   "source": [
    "EventsData = np.ones((len(test), lMax), dtype=int)\n",
    "timesData = np.zeros((len(test), lMax+1))\n",
    "timeMaxData = np.zeros(len(test))\n",
    "SeqLengthData = np.zeros(len(test), dtype=int)"
   ]
  },
  {
   "cell_type": "code",
   "execution_count": 7,
   "metadata": {},
   "outputs": [
    {
     "name": "stdout",
     "output_type": "stream",
     "text": [
      "Starting Data Processing\n"
     ]
    },
    {
     "name": "stderr",
     "output_type": "stream",
     "text": [
      "100%|██████████| 2000/2000 [00:00<00:00, 5248.81it/s]\n"
     ]
    }
   ],
   "source": [
    "print(\"Starting Data Processing\", flush=True)\n",
    "for seq in tqdm(range(len(test)), position=0, leave=True):\n",
    "    for step in range(0, len(test[seq])):\n",
    "        dct = test[seq][step]\n",
    "        event_type = dct[b'type_event']\n",
    "        time = dct[b'time_since_start']\n",
    "        \n",
    "        EventsData[seq, step] = event_type\n",
    "        timesData[seq, step+1] = time\n",
    "    \n",
    "    timeMaxData[seq] = timesData[seq, step+1] # the max interval of this sequence\n",
    "    SeqLengthData[seq] = len(test[seq])\n",
    "    \n",
    "    # Now let's fill up remaining events with -1\n",
    "    # and the times with increasing values so that sorting order is not changed\n",
    "    inc = 0\n",
    "    for step in range(len(test[seq]), lMax):\n",
    "        EventsData[seq, step] = -1\n",
    "        \n",
    "        # keep increasing the time so that sorting order is unaffected\n",
    "        # will help in searching for intervals of random times\n",
    "        inc += 1\n",
    "        timesData[seq, step+1] = timeMaxData[seq] + inc"
   ]
  },
  {
   "cell_type": "code",
   "execution_count": 8,
   "metadata": {},
   "outputs": [],
   "source": [
    "assert np.allclose(timesData[:, 0], 0)"
   ]
  },
  {
   "cell_type": "code",
   "execution_count": 9,
   "metadata": {},
   "outputs": [],
   "source": [
    "# Now save the arrays into an hdf5 file\n",
    "# This makes it easier for handling later\n",
    "import h5py\n",
    "with h5py.File(\"RetweetTestData.h5\", \"w\") as fl:\n",
    "    fl.create_dataset(\"EventsData\", data = EventsData)\n",
    "    fl.create_dataset(\"TimesData\", data = timesData)\n",
    "    fl.create_dataset(\"TimeMaxData\", data = timeMaxData)\n",
    "    fl.create_dataset(\"SeqLengthData\", data = SeqLengthData)"
   ]
  },
  {
   "cell_type": "code",
   "execution_count": null,
   "metadata": {},
   "outputs": [],
   "source": []
  }
 ],
 "metadata": {
  "kernelspec": {
   "display_name": "Python 3",
   "language": "python",
   "name": "python3"
  },
  "language_info": {
   "codemirror_mode": {
    "name": "ipython",
    "version": 3
   },
   "file_extension": ".py",
   "mimetype": "text/x-python",
   "name": "python",
   "nbconvert_exporter": "python",
   "pygments_lexer": "ipython3",
   "version": "3.6.9"
  }
 },
 "nbformat": 4,
 "nbformat_minor": 4
}
