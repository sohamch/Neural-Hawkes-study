{
 "cells": [
  {
   "cell_type": "code",
   "execution_count": null,
   "metadata": {},
   "outputs": [],
   "source": [
    "import sys\n",
    "sys.path.append(\"../\")"
   ]
  },
  {
   "cell_type": "code",
   "execution_count": null,
   "metadata": {
    "id": "Txl_WvoSpr-w"
   },
   "outputs": [],
   "source": [
    "import numpy as np\n",
    "import torch as pt\n",
    "from tqdm import tqdm"
   ]
  },
  {
   "cell_type": "markdown",
   "metadata": {
    "id": "iETN4ELypr-4"
   },
   "source": [
    "# Thinning algorithm for time prediction\n",
    "Note : Here we are interested to see if given a known history of times and events, the neural network can predict the next time and event type or not. So, to test the $(i+1)^{th}$ arrival time and event, we will use the actual history (event type and time) of the sequence upto the $i^{th}$ step."
   ]
  },
  {
   "cell_type": "code",
   "execution_count": null,
   "metadata": {
    "id": "cohjb2Nypr-4"
   },
   "outputs": [],
   "source": [
    "# For now, we'll test the data one sequence at a time\n",
    "def getSeqData(net, seq, seqLabels, LenSeq, times):\n",
    "    \n",
    "    # net : trained network\n",
    "    # seq : one-hot encoded sequence\n",
    "    # seqLabels : labels of outcomes at each time stamp\n",
    "    # times : times of each event in the sequence\n",
    "    \n",
    "    N_events = LenSeq\n",
    "    N_event_types = seq.shape[1]\n",
    "    mask = seqLabels.ge(-1+0.0001)\n",
    "    \n",
    "    # Send the sequence through the network\n",
    "    lambOuts, CLows, Cbars, deltas, OutGates = net.forward(seq.view(-1, N_events, N_event_types),\n",
    "                                                           mask.view(-1, N_events), times.view(-1, N_events+1))\n",
    "    \n",
    "    events_predicted = pt.zeros(N_events, dtype=int)\n",
    "    times_predicted = pt.zeros(N_events)\n",
    "    \n",
    "    corrects = pt.zeros(N_events, dtype=int) # 0 means wrong, 1 means correct\n",
    "    \n",
    "    for i in range(N_events): #tqdm(, position=0, leave=True):\n",
    "        \n",
    "        # First, let's work on computing the supremum rate\n",
    "        \n",
    "        # We need the LSTM parameters at this time index\n",
    "        cL = CLows[:, i]\n",
    "        cB = Cbars[:, i]\n",
    "        o = OutGates[:, i]\n",
    "        delta = deltas[:, i]\n",
    "        tLow = times[i].item()\n",
    "        \n",
    "        # With cL and cB, we compute hL and hB\n",
    "        hL = o * (2*net.sigma(2*cL) - 1)\n",
    "        hB = o * (2*net.sigma(2*cB) - 1)\n",
    "        \n",
    "        # Once hMax is computed, we need to compute the lambda_til\n",
    "        lamb_til_L = net.L_lamb_til(hL)\n",
    "        lamb_til_B = net.L_lamb_til(hB)\n",
    "        \n",
    "        # Next, we have to select the maximum\n",
    "        lamb_til_max = pt.max(lamb_til_L, lamb_til_B)\n",
    "        \n",
    "        # Then, we calculate lambda_max\n",
    "        lambda_max = net.scale * pt.log(1 + pt.exp(lamb_til_max/net.scale)).view(N_event_types)\n",
    "        # so, lambda_max[k] contains the supremum rate of event type k\n",
    "        \n",
    "        lamb_max_total = pt.sum(lambda_max).item()\n",
    "        # print(lamb_max_total)\n",
    "        # Next, we draw some random times and keep testing for arrival\n",
    "        t = tLow\n",
    "        cond = True\n",
    "        while cond:\n",
    "            # draw random increment\n",
    "            Del = -np.log(np.random.rand())/lamb_max_total\n",
    "            t += Del\n",
    "            ct = cB + (cL - cB)*pt.exp(-(t - tLow)*delta)\n",
    "            ht = o * (2*net.sigma(2*ct) - 1)\n",
    "            lamb_til = net.L_lamb_til(ht)\n",
    "            lamb = net.scale * pt.log(1 + pt.exp(lamb_til/net.scale)).view(N_event_types)\n",
    "            lamb_total = pt.sum(lamb).item()\n",
    "            \n",
    "            # Next, acceptance test\n",
    "            if lamb_total/lamb_max_total > np.random.rand():\n",
    "                # then we accept\n",
    "                cond=False\n",
    "                \n",
    "                # once accepted we have to disaggregate to get the next event\n",
    "                # First, convert the intensities into relative probabilites\n",
    "                lamb_prob = lamb/lamb_total\n",
    "                \n",
    "                # Then convert this into cumulative probabilities\n",
    "                # print(lamb_prob)\n",
    "                lamb_csum = pt.cumsum(lamb_prob, dim=0)\n",
    "                \n",
    "                # relative probs example : [0.1, 0.5, 0.4]\n",
    "                # cumulative : [0.1, 0.6, 1.0]\n",
    "                \n",
    "                # Then draw a random number in (0,1)\n",
    "                rn = np.random.rand()\n",
    "                \n",
    "                # Find which event this corresponds to\n",
    "                ev = pt.searchsorted(lamb_csum, rn).item()\n",
    "                \n",
    "                # store this\n",
    "                events_predicted[i] = ev\n",
    "                times_predicted[i] = t\n",
    "                if ev == seqLabels[i].item():\n",
    "                    corrects[i] = 1\n",
    "    \n",
    "    return times_predicted, events_predicted, corrects"
   ]
  },
  {
   "cell_type": "markdown",
   "metadata": {
    "id": "Bmc20M3Jpr-6"
   },
   "source": [
    "# Load the network upto 40 epochs of training"
   ]
  },
  {
   "cell_type": "code",
   "execution_count": null,
   "metadata": {
    "id": "Fu4RWx9kpr-7"
   },
   "outputs": [],
   "source": [
    "net = pt.load(\"RetweetNets/TrainNet_40ep.pt\")"
   ]
  },
  {
   "cell_type": "code",
   "execution_count": null,
   "metadata": {
    "id": "h4Ac691Apr-7"
   },
   "outputs": [],
   "source": [
    "import h5py\n",
    "with h5py.File(\"RetweetTestData.h5\", \"r\") as fl:\n",
    "    EventsData = np.array(fl[\"EventsData\"])\n",
    "    timesData = np.array(fl[\"TimesData\"])\n",
    "    timeMaxData = np.array(fl[\"TimeMaxData\"])\n",
    "    SeqLengthData = np.array(fl[\"SeqLengthData\"])"
   ]
  },
  {
   "cell_type": "code",
   "execution_count": null,
   "metadata": {
    "id": "PQjpuhl3pr-7"
   },
   "outputs": [],
   "source": [
    "# Make one-hot encoded events\n",
    "# Make the events one hot encoded\n",
    "N_test = EventsData.shape[0]\n",
    "N_seq_Max = EventsData.shape[1]\n",
    "N_types = 3\n",
    "Events_one_hot = np.zeros((N_test, N_seq_Max, N_types))\n",
    "for seq in range(N_test):\n",
    "    for step in range(SeqLengthData[seq]):\n",
    "        ev = EventsData[seq, step]\n",
    "        Events_one_hot[seq, step, ev] = 1.0"
   ]
  },
  {
   "cell_type": "code",
   "execution_count": null,
   "metadata": {
    "id": "yFPfRE5fpr-8"
   },
   "outputs": [],
   "source": [
    "# Then convert everything to torch tensors\n",
    "# Since maximum times are very large here,\n",
    "# we scale them down so that gradients don't explode\n",
    "# This doesn't affect final results, since we can always\n",
    "# scale testing times by the same amount too\n",
    "timeScale = 1.0\n",
    "EvTens = pt.tensor(Events_one_hot).double()\n",
    "EvIndTens = pt.tensor(EventsData).long()\n",
    "timeTensor = pt.tensor(timesData/timeScale).double()\n",
    "tMaxTensor = pt.tensor(timeMaxData/timeScale).double()"
   ]
  },
  {
   "cell_type": "markdown",
   "metadata": {
    "id": "Tzh4f4P0pr-9"
   },
   "source": [
    "## Let's first test a randomly chosen sample"
   ]
  },
  {
   "cell_type": "code",
   "execution_count": null,
   "metadata": {
    "id": "Dij_HWa2pr-9"
   },
   "outputs": [],
   "source": [
    "Idx = 5\n",
    "LenSeq = SeqLengthData[Idx]\n",
    "seq, seqLabels, times = EvTens[Idx, :LenSeq], EvIndTens[Idx, :LenSeq],  timeTensor[Idx, :LenSeq+1]"
   ]
  },
  {
   "cell_type": "code",
   "execution_count": null,
   "metadata": {
    "id": "wbIosqKApr--"
   },
   "outputs": [],
   "source": [
    "# if it takes too long, stop and repeat\n",
    "times_predicted, events_predicted, corrects = getSeqData(net, seq, seqLabels, LenSeq, times)"
   ]
  },
  {
   "cell_type": "code",
   "execution_count": null,
   "metadata": {
    "id": "j39zFeetpr-_",
    "outputId": "10204e19-ef04-4f63-f429-4c170ef9d01f"
   },
   "outputs": [
    {
     "data": {
      "text/plain": [
       "tensor(1.)"
      ]
     },
     "execution_count": 19,
     "metadata": {
      "tags": []
     },
     "output_type": "execute_result"
    }
   ],
   "source": [
    "pt.sum(corrects)/len(corrects)"
   ]
  },
  {
   "cell_type": "markdown",
   "metadata": {
    "id": "0GZ243rppr_A"
   },
   "source": [
    "## Now let's test the first 1000 testing sequences\n",
    "### Note : For the retweet datasets, the times span several orders of magnitude, so it might take a while to predict."
   ]
  },
  {
   "cell_type": "code",
   "execution_count": null,
   "metadata": {
    "id": "fFeOQFEvpr_A",
    "outputId": "73424c81-e108-48b5-a9fa-36406f2a2ea4"
   },
   "outputs": [
    {
     "name": "stderr",
     "output_type": "stream",
     "text": [
      "100%|██████████| 1000/1000 [59:58<00:00,  3.60s/it]  \n"
     ]
    }
   ],
   "source": [
    "times_Test = pt.ones(N_test//2, N_seq_Max)*-1  # negative time means no event occurred\n",
    "correctFrac = pt.zeros(N_test//2)\n",
    "# perm = pt.randperm(N_test) # select random test samples\n",
    "for Idx in tqdm(range(N_test//2), position=0, leave=True):\n",
    "    LenSeq = SeqLengthData[Idx]\n",
    "    \n",
    "    seq, seqLabels, times = EvTens[Idx, :LenSeq], EvIndTens[Idx, :LenSeq],\\\n",
    "    timeTensor[Idx, :LenSeq+1]\n",
    "    \n",
    "    times_predicted, events_predicted, corrects = getSeqData(net, seq, seqLabels, LenSeq, times)\n",
    "    \n",
    "    correctFrac[Idx] = pt.sum(corrects)/len(corrects)\n",
    "    \n",
    "    times_Test[Idx, :LenSeq] = times_predicted"
   ]
  },
  {
   "cell_type": "code",
   "execution_count": null,
   "metadata": {
    "id": "dK4_Irn6pr_A"
   },
   "outputs": [],
   "source": [
    "correctFrac = correctFrac.numpy()\n",
    "times_Test = times_Test.numpy()\n",
    "events_predicted = events_predicted.numpy()"
   ]
  },
  {
   "cell_type": "code",
   "execution_count": null,
   "metadata": {
    "id": "7TI1XG9tpr_B",
    "outputId": "2a05ad36-2cad-4f15-a051-3da672eae7d8"
   },
   "outputs": [
    {
     "name": "stdout",
     "output_type": "stream",
     "text": [
      "Mean next event type prediction accuracy: 99.8939%\n"
     ]
    }
   ],
   "source": [
    "print(\"Mean next event type prediction accuracy: {:.4f}%\".format(np.mean(correctFrac)*100))"
   ]
  },
  {
   "cell_type": "code",
   "execution_count": null,
   "metadata": {
    "id": "wvHTqyUFpr_B"
   },
   "outputs": [],
   "source": [
    "import matplotlib.pyplot as plt"
   ]
  },
  {
   "cell_type": "code",
   "execution_count": null,
   "metadata": {
    "id": "Ni-JuM1Zpr_B"
   },
   "outputs": [],
   "source": [
    "# Let's plot a few time evolutions and predicted next arrival time\n",
    "# Based on known history\n",
    "# Since the first step has no history to infer from,\n",
    "# We check from the second step onward\n",
    "Idx1 = 110\n",
    "Idx2 = 259\n",
    "TimesActual1 = timesData[Idx1, 2:]\n",
    "TimesPredicted1 = times_Test[Idx1,1:]\n",
    "LenSeq1 = SeqLengthData[Idx1]\n",
    "\n",
    "TimesActual2 = timesData[Idx2, 2:]\n",
    "TimesPredicted2 = times_Test[Idx2, 1:]\n",
    "LenSeq2 = SeqLengthData[Idx2]"
   ]
  },
  {
   "cell_type": "code",
   "execution_count": null,
   "metadata": {
    "id": "XhU8d5i_pr_C",
    "outputId": "f0e8f5b7-c909-494f-9e1d-dde8e698aa09"
   },
   "outputs": [
    {
     "data": {
      "text/plain": [
       "Text(0.5, 0, 'Time Step')"
      ]
     },
     "execution_count": 27,
     "metadata": {
      "tags": []
     },
     "output_type": "execute_result"
    },
    {
     "data": {
      "image/png": "[encoded data removed]",
      "text/plain": [
       "<Figure size 720x360 with 2 Axes>"
      ]
     },
     "metadata": {
      "needs_background": "light",
      "tags": []
     },
     "output_type": "display_data"
    }
   ],
   "source": [
    "plt.figure(figsize=(10,5))\n",
    "plt.subplot(1,2,1)\n",
    "plt.semilogy(np.arange(2, LenSeq1+1, 1), TimesActual1[:LenSeq1-1], lw=2, label=\"Actual\")\n",
    "plt.semilogy(np.arange(2, LenSeq1+1, 1), TimesPredicted1[:LenSeq1-1], lw=2, label=\"Predicted\")\n",
    "plt.legend(fontsize=14)\n",
    "plt.ylabel(\"Arrival time\", fontsize=16)\n",
    "plt.xlabel(\"Time Step\", fontsize=16)\n",
    "plt.subplot(1,2,2)\n",
    "plt.semilogy(np.arange(2, LenSeq2+1, 1), TimesActual2[:LenSeq2-1], lw=2, label=\"Actual\")\n",
    "plt.semilogy(np.arange(2, LenSeq2+1, 1), TimesPredicted2[:LenSeq2-1], lw=2, label=\"Predicted\")\n",
    "plt.legend(fontsize=14)\n",
    "plt.xlabel(\"Time Step\", fontsize=16)"
   ]
  },
  {
   "cell_type": "markdown",
   "metadata": {
    "id": "raP0QJ4cpr_C"
   },
   "source": [
    "# Next, let's compute the RMSE\n",
    "To keep things fair, we calculate both the RMSE of the actual times and also the log of the time. As we can see from the plots above, the arrival times can range up to 4 orders in magnitude."
   ]
  },
  {
   "cell_type": "code",
   "execution_count": null,
   "metadata": {
    "id": "8-q0YrONpr_C"
   },
   "outputs": [],
   "source": [
    "SeqAvgs = np.zeros(N_test//2)\n",
    "SeqLogAvgs = np.zeros(N_test//2)\n",
    "for seq in range(N_test//2):\n",
    "    LenSeq = SeqLengthData[seq]\n",
    "    # In the actual times, the 0^th time is stored as 0\n",
    "    # The 1^st time has no history before it,\n",
    "    # So we test the 2^nd time step onward,\n",
    "    timeActual = timesData[seq, 2:LenSeq+1]\n",
    "    timePredicted = times_Test[seq, 1:LenSeq]\n",
    "    \n",
    "    dT2 = (timePredicted - timeActual)**2\n",
    "    dTLog2 = (np.log(timePredicted) - np.log(timeActual))**2\n",
    "    dT2_avg = np.sum(dT2)/LenSeq\n",
    "    dTLog2_avg = np.sum(dTLog2)/LenSeq\n",
    "    SeqAvgs[seq] = dT2_avg\n",
    "    SeqLogAvgs[seq] = dTLog2_avg"
   ]
  },
  {
   "cell_type": "code",
   "execution_count": null,
   "metadata": {
    "id": "oXVC-Uxdpr_D",
    "outputId": "002ae1a8-72df-4226-c0fc-4ff2f9e9d5be"
   },
   "outputs": [
    {
     "name": "stdout",
     "output_type": "stream",
     "text": [
      "Average Root Mean squared error across 1000 test sequences: 46587.57507257626\n",
      "Average Mean squared error of Log(time) across 1000 test sequences: 0.06123347910665076\n"
     ]
    }
   ],
   "source": [
    "print(\"Average Root Mean squared error across {} test sequences: {}\".format(N_test//2, np.sqrt(np.mean(SeqAvgs))))\n",
    "print(\"Average Mean squared error of Log(time) across {} test sequences: {}\".format(N_test//2,\n",
    "                                                                                    np.mean(SeqLogAvgs)))"
   ]
  },
  {
   "cell_type": "code",
   "execution_count": null,
   "metadata": {
    "id": "GAn2MieApr_D"
   },
   "outputs": [],
   "source": []
  }
 ],
 "metadata": {
  "colab": {
   "name": "Thinning_algo_testing-Retweet_Run2.ipynb",
   "provenance": []
  },
  "kernelspec": {
   "display_name": "Python 3",
   "language": "python",
   "name": "python3"
  },
  "language_info": {
   "codemirror_mode": {
    "name": "ipython",
    "version": 3
   },
   "file_extension": ".py",
   "mimetype": "text/x-python",
   "name": "python",
   "nbconvert_exporter": "python",
   "pygments_lexer": "ipython3",
   "version": "3.6.9"
  }
 },
 "nbformat": 4,
 "nbformat_minor": 1
}
